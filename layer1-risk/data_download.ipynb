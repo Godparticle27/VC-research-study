{
  "nbformat": 4,
  "nbformat_minor": 0,
  "metadata": {
    "colab": {
      "provenance": []
    },
    "kernelspec": {
      "name": "python3",
      "display_name": "Python 3"
    },
    "language_info": {
      "name": "python"
    }
  },
  "cells": [
    {
      "cell_type": "code",
      "execution_count": 8,
      "metadata": {
        "colab": {
          "base_uri": "https://localhost:8080/"
        },
        "id": "X6wDuQH-bIpO",
        "outputId": "12cc2705-8c96-4b5a-c782-108cf996b846"
      },
      "outputs": [
        {
          "output_type": "stream",
          "name": "stdout",
          "text": [
            "         date  ETHEREUMprice  SOLANAprice  AVALANCHE-2price  BINANCECOINprice  \\\n",
            "0  2024-10-28    2505.502947   176.625967         25.710998        588.346659   \n",
            "1  2024-10-29    2564.813856   178.140458         26.260938        600.295157   \n",
            "2  2024-10-30    2638.637351   179.368611         26.848049        605.992366   \n",
            "3  2024-10-31    2657.614182   175.079103         26.190177        595.762831   \n",
            "4  2024-11-01    2514.750787   168.402522         25.030598        575.582735   \n",
            "5  2024-11-02    2513.837287   166.288210         24.790527        572.917831   \n",
            "6  2024-11-03    2491.352150   165.995028         24.090883        568.178871   \n",
            "7  2024-11-04    2456.979687   162.667918         23.548942        557.971939   \n",
            "8  2024-11-05    2395.947214   157.607223         22.710409        552.000270   \n",
            "9  2024-11-06    2422.368480   166.511436         23.963605        563.181586   \n",
            "\n",
            "   CARDANOprice  \n",
            "0      0.339550  \n",
            "1      0.343772  \n",
            "2      0.355838  \n",
            "3      0.354942  \n",
            "4      0.341602  \n",
            "5      0.357044  \n",
            "6      0.347619  \n",
            "7      0.334521  \n",
            "8      0.325795  \n",
            "9      0.333300  \n"
          ]
        }
      ],
      "source": [
        "import requests, pandas as pd, numpy as np, datetime\n",
        "\n",
        "## Fetch historical data for [ETH, SOL, AVAX, BNB, ADA] using CoinGecko's public API\n",
        "\n",
        "## Constants\n",
        "base_URL = \"https://api.coingecko.com/api/v3\"\n",
        "endpoint = \"/coins/{id}/market_chart\"\n",
        "vs_currency = \"usd\"\n",
        "days = 365\n",
        "interval = \"daily\"\n",
        "coins = [\"ethereum\", \"solana\", \"avalanche-2\", \"binancecoin\", \"cardano\"]\n",
        "\n",
        "\n",
        "def fetch_coin_history(token_id, vs_currency=\"usd\", days=365, interval=\"daily\"):\n",
        "    url = base_URL + endpoint.format(id=token_id)\n",
        "\n",
        "    params = {\n",
        "        \"vs_currency\": vs_currency,\n",
        "        \"days\": days,\n",
        "        \"interval\": interval\n",
        "    }\n",
        "\n",
        "    r = requests.get(url, params=params)\n",
        "    data = r.json()\n",
        "    prices = data[\"prices\"]\n",
        "    df = pd.DataFrame(prices, columns=[\"timestamp\", f\"{token_id.upper()}price\"])\n",
        "    df[\"date\"] = pd.to_datetime(df[\"timestamp\"], unit=\"ms\").dt.date\n",
        "\n",
        "    df = df[[\"date\", f\"{token_id.upper()}price\"]]\n",
        "    return df\n",
        "\n",
        "\n",
        "## generate dataframes and merge them all\n",
        "dfs = [fetch_coin_history(coin) for coin in coins]\n",
        "\n",
        "from functools import reduce\n",
        "df_all = reduce(lambda left, right: pd.merge(left, right, on=\"date\"), dfs)\n",
        "\n",
        "print(df_all.head(10))\n",
        "\n",
        "df_all.to_csv(\"data.csv\", index=False)"
      ]
    }
  ]
}